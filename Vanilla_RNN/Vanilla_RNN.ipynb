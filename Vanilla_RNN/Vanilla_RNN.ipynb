{
  "nbformat": 4,
  "nbformat_minor": 0,
  "metadata": {
    "colab": {
      "provenance": []
    },
    "kernelspec": {
      "name": "python3",
      "display_name": "Python 3"
    },
    "language_info": {
      "name": "python"
    }
  },
  "cells": [
    {
      "cell_type": "code",
      "execution_count": null,
      "metadata": {
        "colab": {
          "base_uri": "https://localhost:8080/"
        },
        "id": "0px_VeOnQiZM",
        "outputId": "86ee4f89-27e3-4348-9928-0274da8e4a9d"
      },
      "outputs": [
        {
          "output_type": "stream",
          "name": "stdout",
          "text": [
            "Drive already mounted at /content/drive; to attempt to forcibly remount, call drive.mount(\"/content/drive\", force_remount=True).\n"
          ]
        }
      ],
      "source": [
        "from google.colab import drive\n",
        "drive.mount('/content/drive')"
      ]
    },
    {
      "cell_type": "code",
      "source": [
        "import nltk\n",
        "nltk.download('punkt')\n",
        "nltk.download('omw-1.4')\n",
        "nltk.download('punkt')\n",
        "nltk.download(\"stopwords\")\n",
        "nltk.download('wordnet')\n",
        "import pandas as pd\n",
        "import numpy as np"
      ],
      "metadata": {
        "id": "fm2c3LdYQkZ9"
      },
      "execution_count": null,
      "outputs": []
    },
    {
      "cell_type": "code",
      "source": [
        "df= pd.read_csv('/content/drive/MyDrive/425/comments_negative.csv')\n"
      ],
      "metadata": {
        "id": "7fYalkTaQ-ch"
      },
      "execution_count": null,
      "outputs": []
    },
    {
      "cell_type": "code",
      "source": [
        "df.shape"
      ],
      "metadata": {
        "colab": {
          "base_uri": "https://localhost:8080/"
        },
        "id": "zf2hm4bYYHHY",
        "outputId": "477ee520-1b4c-443b-b4c3-3a9297c32f6c"
      },
      "execution_count": null,
      "outputs": [
        {
          "output_type": "execute_result",
          "data": {
            "text/plain": [
              "(2000000, 15)"
            ]
          },
          "metadata": {},
          "execution_count": 6
        }
      ]
    },
    {
      "cell_type": "code",
      "source": [
        "df.isnull().sum()"
      ],
      "metadata": {
        "colab": {
          "base_uri": "https://localhost:8080/"
        },
        "id": "eotHmyLRYJob",
        "outputId": "1558084e-b1eb-4b54-aa36-0647b81642f8"
      },
      "execution_count": null,
      "outputs": [
        {
          "output_type": "execute_result",
          "data": {
            "text/plain": [
              "id                          0\n",
              "parent_id                   0\n",
              "subreddit_id                0\n",
              "link_id                     0\n",
              "text                       42\n",
              "score                       0\n",
              "ups                         0\n",
              "author                      0\n",
              "controversiality            0\n",
              "parent_link_id              0\n",
              "parent_text                 7\n",
              "parent_score                0\n",
              "parent_ups                  0\n",
              "parent_author               0\n",
              "parent_controversiality     0\n",
              "dtype: int64"
            ]
          },
          "metadata": {},
          "execution_count": 7
        }
      ]
    },
    {
      "cell_type": "code",
      "source": [
        "df.head(10)"
      ],
      "metadata": {
        "colab": {
          "base_uri": "https://localhost:8080/",
          "height": 774
        },
        "id": "zQYid5evYLnO",
        "outputId": "a1f7327b-b51c-467e-91c8-e3532566d6a6"
      },
      "execution_count": null,
      "outputs": [
        {
          "output_type": "execute_result",
          "data": {
            "text/plain": [
              "        id   parent_id subreddit_id    link_id  \\\n",
              "0  c0a2d2p  t1_c0a2cn1     t5_1a8ah   t3_8pr4w   \n",
              "1  c6okok8  t1_c6oaywb     t5_2s8e9  t3_11otij   \n",
              "2  c3nlalf  t1_c3nijr7     t5_2qzb6   t3_p9a1v   \n",
              "3  c10nh8q  t1_c10nc34         t5_6   t3_djasj   \n",
              "4  c3nlufk  t1_c3nlcob     t5_2qzb6   t3_p9a1v   \n",
              "5  cnslwzt  t1_cnsjocl     t5_2sljg  t3_2ssbyk   \n",
              "6  c0lab7u  t1_c0la9si         t5_6   t3_b72yd   \n",
              "7  c5vwey8  t1_c5vwdre     t5_2qore   t3_yimmd   \n",
              "8  c3x2b3i  t1_c3x1w1q     t5_2qh1i   t3_qewet   \n",
              "9  c69mvgl  t1_c68858i     t5_2tloj   t3_zvewf   \n",
              "\n",
              "                                                text  score   ups  \\\n",
              "0  Na, not really. \\n\\nI just hate islam and ever...  -2946 -2946   \n",
              "1                lol you're some ugly ass white dude  -2724 -2724   \n",
              "2  First of off, its not true, and second off, I ...  -2132 -2132   \n",
              "3  Who made you reddit police? I will submit what...  -2117 -2117   \n",
              "4        We gotta be...i consider my time valuable.   -1962 -1962   \n",
              "5  Oh, bitch please. You've been threatening to l...  -1941 -1941   \n",
              "6  I upvoted you, but I think it's important to n...  -1845 -1845   \n",
              "7  How about  let the game speak for itself? I wa...  -1802 -1802   \n",
              "8  I don't think thats the most technologically a...  -1757 -1757   \n",
              "9  This was my [50th downvote](http://i.imgur.com...  -1658 -1658   \n",
              "\n",
              "                author  controversiality parent_link_id  \\\n",
              "0                b34nz                 0       t3_8pr4w   \n",
              "1  letmetellyouhowitis                 0      t3_11otij   \n",
              "2    iamwoodyharrelson                 0       t3_p9a1v   \n",
              "3     JimmyJamesincorp                 0       t3_djasj   \n",
              "4    iamwoodyharrelson                 0       t3_p9a1v   \n",
              "5         MisterCannon                 0      t3_2ssbyk   \n",
              "6              Saydrah                 0       t3_b72yd   \n",
              "7               Taffer                 0       t3_yimmd   \n",
              "8               UpDown                 0       t3_qewet   \n",
              "9               Lellux                 0       t3_zvewf   \n",
              "\n",
              "                                         parent_text  parent_score  \\\n",
              "0  What goes through the heads of you people?  Is...           459   \n",
              "1      This is worth noting.\\n\\nThankfully I don't.             72   \n",
              "2  I swear this is *(allegedly)* a true story.  I...          4028   \n",
              "3  I was on my way over here to bitch and moan ab...          1214   \n",
              "4  Should change this AMA to AMAAR (Ask Me Anythi...          1405   \n",
              "5  You are also correct. People take a lot of wha...            87   \n",
              "6  He is a former SEOmoz guy, he knows his way ar...           625   \n",
              "7  Fans of the series deserve to know how childis...           216   \n",
              "8                    We put men on the goddamn MOON!          1595   \n",
              "9  That was my [100th upvote](http://screensnapr....           165   \n",
              "\n",
              "   parent_ups     parent_author  parent_controversiality  \n",
              "0         459         [deleted]                        0  \n",
              "1          72          flowen65                        0  \n",
              "2        4028        AndyRooney                        0  \n",
              "3        1214      SloaneRanger                        0  \n",
              "4        1405             bersh                        0  \n",
              "5          87      MetsFan4Ever                        0  \n",
              "6         625  LoveGiantBatFart                        0  \n",
              "7         216          raingame                        0  \n",
              "8        1595      Neurotikitty                        0  \n",
              "9         165            Beznia                        0  "
            ],
            "text/html": [
              "\n",
              "\n",
              "  <div id=\"df-09b62621-82e6-4049-9e50-f3cf8bdb0f4f\">\n",
              "    <div class=\"colab-df-container\">\n",
              "      <div>\n",
              "<style scoped>\n",
              "    .dataframe tbody tr th:only-of-type {\n",
              "        vertical-align: middle;\n",
              "    }\n",
              "\n",
              "    .dataframe tbody tr th {\n",
              "        vertical-align: top;\n",
              "    }\n",
              "\n",
              "    .dataframe thead th {\n",
              "        text-align: right;\n",
              "    }\n",
              "</style>\n",
              "<table border=\"1\" class=\"dataframe\">\n",
              "  <thead>\n",
              "    <tr style=\"text-align: right;\">\n",
              "      <th></th>\n",
              "      <th>id</th>\n",
              "      <th>parent_id</th>\n",
              "      <th>subreddit_id</th>\n",
              "      <th>link_id</th>\n",
              "      <th>text</th>\n",
              "      <th>score</th>\n",
              "      <th>ups</th>\n",
              "      <th>author</th>\n",
              "      <th>controversiality</th>\n",
              "      <th>parent_link_id</th>\n",
              "      <th>parent_text</th>\n",
              "      <th>parent_score</th>\n",
              "      <th>parent_ups</th>\n",
              "      <th>parent_author</th>\n",
              "      <th>parent_controversiality</th>\n",
              "    </tr>\n",
              "  </thead>\n",
              "  <tbody>\n",
              "    <tr>\n",
              "      <th>0</th>\n",
              "      <td>c0a2d2p</td>\n",
              "      <td>t1_c0a2cn1</td>\n",
              "      <td>t5_1a8ah</td>\n",
              "      <td>t3_8pr4w</td>\n",
              "      <td>Na, not really. \\n\\nI just hate islam and ever...</td>\n",
              "      <td>-2946</td>\n",
              "      <td>-2946</td>\n",
              "      <td>b34nz</td>\n",
              "      <td>0</td>\n",
              "      <td>t3_8pr4w</td>\n",
              "      <td>What goes through the heads of you people?  Is...</td>\n",
              "      <td>459</td>\n",
              "      <td>459</td>\n",
              "      <td>[deleted]</td>\n",
              "      <td>0</td>\n",
              "    </tr>\n",
              "    <tr>\n",
              "      <th>1</th>\n",
              "      <td>c6okok8</td>\n",
              "      <td>t1_c6oaywb</td>\n",
              "      <td>t5_2s8e9</td>\n",
              "      <td>t3_11otij</td>\n",
              "      <td>lol you're some ugly ass white dude</td>\n",
              "      <td>-2724</td>\n",
              "      <td>-2724</td>\n",
              "      <td>letmetellyouhowitis</td>\n",
              "      <td>0</td>\n",
              "      <td>t3_11otij</td>\n",
              "      <td>This is worth noting.\\n\\nThankfully I don't.</td>\n",
              "      <td>72</td>\n",
              "      <td>72</td>\n",
              "      <td>flowen65</td>\n",
              "      <td>0</td>\n",
              "    </tr>\n",
              "    <tr>\n",
              "      <th>2</th>\n",
              "      <td>c3nlalf</td>\n",
              "      <td>t1_c3nijr7</td>\n",
              "      <td>t5_2qzb6</td>\n",
              "      <td>t3_p9a1v</td>\n",
              "      <td>First of off, its not true, and second off, I ...</td>\n",
              "      <td>-2132</td>\n",
              "      <td>-2132</td>\n",
              "      <td>iamwoodyharrelson</td>\n",
              "      <td>0</td>\n",
              "      <td>t3_p9a1v</td>\n",
              "      <td>I swear this is *(allegedly)* a true story.  I...</td>\n",
              "      <td>4028</td>\n",
              "      <td>4028</td>\n",
              "      <td>AndyRooney</td>\n",
              "      <td>0</td>\n",
              "    </tr>\n",
              "    <tr>\n",
              "      <th>3</th>\n",
              "      <td>c10nh8q</td>\n",
              "      <td>t1_c10nc34</td>\n",
              "      <td>t5_6</td>\n",
              "      <td>t3_djasj</td>\n",
              "      <td>Who made you reddit police? I will submit what...</td>\n",
              "      <td>-2117</td>\n",
              "      <td>-2117</td>\n",
              "      <td>JimmyJamesincorp</td>\n",
              "      <td>0</td>\n",
              "      <td>t3_djasj</td>\n",
              "      <td>I was on my way over here to bitch and moan ab...</td>\n",
              "      <td>1214</td>\n",
              "      <td>1214</td>\n",
              "      <td>SloaneRanger</td>\n",
              "      <td>0</td>\n",
              "    </tr>\n",
              "    <tr>\n",
              "      <th>4</th>\n",
              "      <td>c3nlufk</td>\n",
              "      <td>t1_c3nlcob</td>\n",
              "      <td>t5_2qzb6</td>\n",
              "      <td>t3_p9a1v</td>\n",
              "      <td>We gotta be...i consider my time valuable.</td>\n",
              "      <td>-1962</td>\n",
              "      <td>-1962</td>\n",
              "      <td>iamwoodyharrelson</td>\n",
              "      <td>0</td>\n",
              "      <td>t3_p9a1v</td>\n",
              "      <td>Should change this AMA to AMAAR (Ask Me Anythi...</td>\n",
              "      <td>1405</td>\n",
              "      <td>1405</td>\n",
              "      <td>bersh</td>\n",
              "      <td>0</td>\n",
              "    </tr>\n",
              "    <tr>\n",
              "      <th>5</th>\n",
              "      <td>cnslwzt</td>\n",
              "      <td>t1_cnsjocl</td>\n",
              "      <td>t5_2sljg</td>\n",
              "      <td>t3_2ssbyk</td>\n",
              "      <td>Oh, bitch please. You've been threatening to l...</td>\n",
              "      <td>-1941</td>\n",
              "      <td>-1941</td>\n",
              "      <td>MisterCannon</td>\n",
              "      <td>0</td>\n",
              "      <td>t3_2ssbyk</td>\n",
              "      <td>You are also correct. People take a lot of wha...</td>\n",
              "      <td>87</td>\n",
              "      <td>87</td>\n",
              "      <td>MetsFan4Ever</td>\n",
              "      <td>0</td>\n",
              "    </tr>\n",
              "    <tr>\n",
              "      <th>6</th>\n",
              "      <td>c0lab7u</td>\n",
              "      <td>t1_c0la9si</td>\n",
              "      <td>t5_6</td>\n",
              "      <td>t3_b72yd</td>\n",
              "      <td>I upvoted you, but I think it's important to n...</td>\n",
              "      <td>-1845</td>\n",
              "      <td>-1845</td>\n",
              "      <td>Saydrah</td>\n",
              "      <td>0</td>\n",
              "      <td>t3_b72yd</td>\n",
              "      <td>He is a former SEOmoz guy, he knows his way ar...</td>\n",
              "      <td>625</td>\n",
              "      <td>625</td>\n",
              "      <td>LoveGiantBatFart</td>\n",
              "      <td>0</td>\n",
              "    </tr>\n",
              "    <tr>\n",
              "      <th>7</th>\n",
              "      <td>c5vwey8</td>\n",
              "      <td>t1_c5vwdre</td>\n",
              "      <td>t5_2qore</td>\n",
              "      <td>t3_yimmd</td>\n",
              "      <td>How about  let the game speak for itself? I wa...</td>\n",
              "      <td>-1802</td>\n",
              "      <td>-1802</td>\n",
              "      <td>Taffer</td>\n",
              "      <td>0</td>\n",
              "      <td>t3_yimmd</td>\n",
              "      <td>Fans of the series deserve to know how childis...</td>\n",
              "      <td>216</td>\n",
              "      <td>216</td>\n",
              "      <td>raingame</td>\n",
              "      <td>0</td>\n",
              "    </tr>\n",
              "    <tr>\n",
              "      <th>8</th>\n",
              "      <td>c3x2b3i</td>\n",
              "      <td>t1_c3x1w1q</td>\n",
              "      <td>t5_2qh1i</td>\n",
              "      <td>t3_qewet</td>\n",
              "      <td>I don't think thats the most technologically a...</td>\n",
              "      <td>-1757</td>\n",
              "      <td>-1757</td>\n",
              "      <td>UpDown</td>\n",
              "      <td>0</td>\n",
              "      <td>t3_qewet</td>\n",
              "      <td>We put men on the goddamn MOON!</td>\n",
              "      <td>1595</td>\n",
              "      <td>1595</td>\n",
              "      <td>Neurotikitty</td>\n",
              "      <td>0</td>\n",
              "    </tr>\n",
              "    <tr>\n",
              "      <th>9</th>\n",
              "      <td>c69mvgl</td>\n",
              "      <td>t1_c68858i</td>\n",
              "      <td>t5_2tloj</td>\n",
              "      <td>t3_zvewf</td>\n",
              "      <td>This was my [50th downvote](http://i.imgur.com...</td>\n",
              "      <td>-1658</td>\n",
              "      <td>-1658</td>\n",
              "      <td>Lellux</td>\n",
              "      <td>0</td>\n",
              "      <td>t3_zvewf</td>\n",
              "      <td>That was my [100th upvote](http://screensnapr....</td>\n",
              "      <td>165</td>\n",
              "      <td>165</td>\n",
              "      <td>Beznia</td>\n",
              "      <td>0</td>\n",
              "    </tr>\n",
              "  </tbody>\n",
              "</table>\n",
              "</div>\n",
              "      <button class=\"colab-df-convert\" onclick=\"convertToInteractive('df-09b62621-82e6-4049-9e50-f3cf8bdb0f4f')\"\n",
              "              title=\"Convert this dataframe to an interactive table.\"\n",
              "              style=\"display:none;\">\n",
              "\n",
              "  <svg xmlns=\"http://www.w3.org/2000/svg\" height=\"24px\"viewBox=\"0 0 24 24\"\n",
              "       width=\"24px\">\n",
              "    <path d=\"M0 0h24v24H0V0z\" fill=\"none\"/>\n",
              "    <path d=\"M18.56 5.44l.94 2.06.94-2.06 2.06-.94-2.06-.94-.94-2.06-.94 2.06-2.06.94zm-11 1L8.5 8.5l.94-2.06 2.06-.94-2.06-.94L8.5 2.5l-.94 2.06-2.06.94zm10 10l.94 2.06.94-2.06 2.06-.94-2.06-.94-.94-2.06-.94 2.06-2.06.94z\"/><path d=\"M17.41 7.96l-1.37-1.37c-.4-.4-.92-.59-1.43-.59-.52 0-1.04.2-1.43.59L10.3 9.45l-7.72 7.72c-.78.78-.78 2.05 0 2.83L4 21.41c.39.39.9.59 1.41.59.51 0 1.02-.2 1.41-.59l7.78-7.78 2.81-2.81c.8-.78.8-2.07 0-2.86zM5.41 20L4 18.59l7.72-7.72 1.47 1.35L5.41 20z\"/>\n",
              "  </svg>\n",
              "      </button>\n",
              "\n",
              "\n",
              "\n",
              "    <div id=\"df-ecd721c2-9e85-4104-8263-9a08af33e97f\">\n",
              "      <button class=\"colab-df-quickchart\" onclick=\"quickchart('df-ecd721c2-9e85-4104-8263-9a08af33e97f')\"\n",
              "              title=\"Suggest charts.\"\n",
              "              style=\"display:none;\">\n",
              "\n",
              "<svg xmlns=\"http://www.w3.org/2000/svg\" height=\"24px\"viewBox=\"0 0 24 24\"\n",
              "     width=\"24px\">\n",
              "    <g>\n",
              "        <path d=\"M19 3H5c-1.1 0-2 .9-2 2v14c0 1.1.9 2 2 2h14c1.1 0 2-.9 2-2V5c0-1.1-.9-2-2-2zM9 17H7v-7h2v7zm4 0h-2V7h2v10zm4 0h-2v-4h2v4z\"/>\n",
              "    </g>\n",
              "</svg>\n",
              "      </button>\n",
              "    </div>\n",
              "\n",
              "<style>\n",
              "  .colab-df-quickchart {\n",
              "    background-color: #E8F0FE;\n",
              "    border: none;\n",
              "    border-radius: 50%;\n",
              "    cursor: pointer;\n",
              "    display: none;\n",
              "    fill: #1967D2;\n",
              "    height: 32px;\n",
              "    padding: 0 0 0 0;\n",
              "    width: 32px;\n",
              "  }\n",
              "\n",
              "  .colab-df-quickchart:hover {\n",
              "    background-color: #E2EBFA;\n",
              "    box-shadow: 0px 1px 2px rgba(60, 64, 67, 0.3), 0px 1px 3px 1px rgba(60, 64, 67, 0.15);\n",
              "    fill: #174EA6;\n",
              "  }\n",
              "\n",
              "  [theme=dark] .colab-df-quickchart {\n",
              "    background-color: #3B4455;\n",
              "    fill: #D2E3FC;\n",
              "  }\n",
              "\n",
              "  [theme=dark] .colab-df-quickchart:hover {\n",
              "    background-color: #434B5C;\n",
              "    box-shadow: 0px 1px 3px 1px rgba(0, 0, 0, 0.15);\n",
              "    filter: drop-shadow(0px 1px 2px rgba(0, 0, 0, 0.3));\n",
              "    fill: #FFFFFF;\n",
              "  }\n",
              "</style>\n",
              "\n",
              "    <script>\n",
              "      async function quickchart(key) {\n",
              "        const containerElement = document.querySelector('#' + key);\n",
              "        const charts = await google.colab.kernel.invokeFunction(\n",
              "            'suggestCharts', [key], {});\n",
              "      }\n",
              "    </script>\n",
              "\n",
              "      <script>\n",
              "\n",
              "function displayQuickchartButton(domScope) {\n",
              "  let quickchartButtonEl =\n",
              "    domScope.querySelector('#df-ecd721c2-9e85-4104-8263-9a08af33e97f button.colab-df-quickchart');\n",
              "  quickchartButtonEl.style.display =\n",
              "    google.colab.kernel.accessAllowed ? 'block' : 'none';\n",
              "}\n",
              "\n",
              "        displayQuickchartButton(document);\n",
              "      </script>\n",
              "      <style>\n",
              "    .colab-df-container {\n",
              "      display:flex;\n",
              "      flex-wrap:wrap;\n",
              "      gap: 12px;\n",
              "    }\n",
              "\n",
              "    .colab-df-convert {\n",
              "      background-color: #E8F0FE;\n",
              "      border: none;\n",
              "      border-radius: 50%;\n",
              "      cursor: pointer;\n",
              "      display: none;\n",
              "      fill: #1967D2;\n",
              "      height: 32px;\n",
              "      padding: 0 0 0 0;\n",
              "      width: 32px;\n",
              "    }\n",
              "\n",
              "    .colab-df-convert:hover {\n",
              "      background-color: #E2EBFA;\n",
              "      box-shadow: 0px 1px 2px rgba(60, 64, 67, 0.3), 0px 1px 3px 1px rgba(60, 64, 67, 0.15);\n",
              "      fill: #174EA6;\n",
              "    }\n",
              "\n",
              "    [theme=dark] .colab-df-convert {\n",
              "      background-color: #3B4455;\n",
              "      fill: #D2E3FC;\n",
              "    }\n",
              "\n",
              "    [theme=dark] .colab-df-convert:hover {\n",
              "      background-color: #434B5C;\n",
              "      box-shadow: 0px 1px 3px 1px rgba(0, 0, 0, 0.15);\n",
              "      filter: drop-shadow(0px 1px 2px rgba(0, 0, 0, 0.3));\n",
              "      fill: #FFFFFF;\n",
              "    }\n",
              "  </style>\n",
              "\n",
              "      <script>\n",
              "        const buttonEl =\n",
              "          document.querySelector('#df-09b62621-82e6-4049-9e50-f3cf8bdb0f4f button.colab-df-convert');\n",
              "        buttonEl.style.display =\n",
              "          google.colab.kernel.accessAllowed ? 'block' : 'none';\n",
              "\n",
              "        async function convertToInteractive(key) {\n",
              "          const element = document.querySelector('#df-09b62621-82e6-4049-9e50-f3cf8bdb0f4f');\n",
              "          const dataTable =\n",
              "            await google.colab.kernel.invokeFunction('convertToInteractive',\n",
              "                                                     [key], {});\n",
              "          if (!dataTable) return;\n",
              "\n",
              "          const docLinkHtml = 'Like what you see? Visit the ' +\n",
              "            '<a target=\"_blank\" href=https://colab.research.google.com/notebooks/data_table.ipynb>data table notebook</a>'\n",
              "            + ' to learn more about interactive tables.';\n",
              "          element.innerHTML = '';\n",
              "          dataTable['output_type'] = 'display_data';\n",
              "          await google.colab.output.renderOutput(dataTable, element);\n",
              "          const docLink = document.createElement('div');\n",
              "          docLink.innerHTML = docLinkHtml;\n",
              "          element.appendChild(docLink);\n",
              "        }\n",
              "      </script>\n",
              "    </div>\n",
              "  </div>\n"
            ]
          },
          "metadata": {},
          "execution_count": 8
        }
      ]
    },
    {
      "cell_type": "code",
      "source": [
        "duplicate_rows = df[df.duplicated()]\n",
        "duplicate_counts = duplicate_rows.value_counts()\n",
        "print(\"Duplicate Rows:\")\n",
        "print(duplicate_counts)"
      ],
      "metadata": {
        "id": "qcwF166PYN6m"
      },
      "execution_count": null,
      "outputs": []
    },
    {
      "cell_type": "code",
      "source": [
        "df = df.drop_duplicates('text')"
      ],
      "metadata": {
        "id": "7PooWp5kYRGx"
      },
      "execution_count": null,
      "outputs": []
    },
    {
      "cell_type": "code",
      "source": [
        "df = df.drop_duplicates('parent_text')"
      ],
      "metadata": {
        "id": "7kFWQhPDZDfC"
      },
      "execution_count": null,
      "outputs": []
    },
    {
      "cell_type": "code",
      "source": [
        "df.shape"
      ],
      "metadata": {
        "id": "qu1EvuT4ZHcg"
      },
      "execution_count": null,
      "outputs": []
    },
    {
      "cell_type": "code",
      "source": [
        "!pip install beautifulsoup4\n",
        "!pip install lxml\n",
        "from bs4 import BeautifulSoup\n",
        "import unicodedata\n",
        "import re\n",
        "from nltk.corpus import stopwords\n",
        "from nltk.stem import WordNetLemmatizer\n",
        "\n",
        "# Define a function to perform text normalization\n",
        "def normalize_text(a):\n",
        "    a = str(a).lower()\n",
        "    a=removeTags(a)\n",
        "    a = BeautifulSoup(a, \"html.parser\").text\n",
        "\n",
        "    # Remove non-alphabetic characters\n",
        "    a = re.sub(r'[^a-zA-Z]', ' ', a)\n",
        "    a=re.sub(r\"\\s+[a-zA-Z]\\s+\", ' ', a)\n",
        "    a= re.sub(r'\\s+', ' ', a)\n",
        "\n",
        "    # Tokenize text into words\n",
        "    words = nltk.word_tokenize(a)\n",
        "\n",
        "    # Remove stop words\n",
        "    stop_words = set(stopwords.words('english'))\n",
        "    words = [word for word in words if word not in stop_words]\n",
        "\n",
        "    # Lemmatize words\n",
        "    lemmatizer = WordNetLemmatizer()\n",
        "    words = [lemmatizer.lemmatize(word) for word in words]\n",
        "\n",
        "\n",
        "    # Join words back into a normalized sentence\n",
        "    normalized_text = ' '.join(words)\n",
        "\n",
        "    return normalized_text\n",
        "tag = re.compile(r'<[*%>]+>')\n",
        "\n",
        "def removeTags(b):\n",
        "  return tag.sub('', b)\n",
        "\n",
        "# Apply the normalization function to the 'text' column\n",
        "df['text'] = df['text'].apply(normalize_text)\n"
      ],
      "metadata": {
        "id": "tCjOFZKbZRWi"
      },
      "execution_count": null,
      "outputs": []
    },
    {
      "cell_type": "code",
      "source": [
        "df['parent_text'] = df['parent_text'].apply(normalize_text)\n"
      ],
      "metadata": {
        "id": "hyb_fJBU5V32"
      },
      "execution_count": null,
      "outputs": []
    },
    {
      "cell_type": "code",
      "source": [
        "df"
      ],
      "metadata": {
        "id": "OOG6ngXf5c0x"
      },
      "execution_count": null,
      "outputs": []
    },
    {
      "cell_type": "code",
      "source": [
        "from google.colab import drive\n",
        "drive.mount('/content/drive')\n",
        "df= pd.read_csv('/content/drive/MyDrive/425/comments_negative.csv')\n",
        "#preprocessing using normalization\n",
        "!pip install beautifulsoup4\n",
        "!pip install lxml\n",
        "from bs4 import BeautifulSoup\n",
        "import unicodedata\n",
        "import re\n",
        "from nltk.corpus import stopwords\n",
        "from nltk.stem import WordNetLemmatizer\n",
        "\n",
        "# Define a function to perform text normalization\n",
        "def normalize_text(a):\n",
        "    a = str(a).lower()\n",
        "    a=removeTags(a)\n",
        "    a = BeautifulSoup(a, \"html.parser\").text\n",
        "\n",
        "    # Remove non-alphabetic characters\n",
        "    a = re.sub(r'[^a-zA-Z]', ' ', a)\n",
        "    a=re.sub(r\"\\s+[a-zA-Z]\\s+\", ' ', a)\n",
        "    a= re.sub(r'\\s+', ' ', a)\n",
        "\n",
        "    # Tokenize text into words\n",
        "    words = nltk.word_tokenize(a)\n",
        "\n",
        "    # Remove stop words\n",
        "    stop_words = set(stopwords.words('english'))\n",
        "    words = [word for word in words if word not in stop_words]\n",
        "\n",
        "    # Lemmatize words\n",
        "    lemmatizer = WordNetLemmatizer()\n",
        "    words = [lemmatizer.lemmatize(word) for word in words]\n",
        "\n",
        "\n",
        "    # Join words back into a normalized sentence\n",
        "    normalized_text = ' '.join(words)\n",
        "\n",
        "    return normalized_text\n",
        "tag = re.compile(r'<[*%>]+>')\n",
        "\n",
        "def removeTags(b):\n",
        "  return tag.sub('', b)\n",
        "\n",
        "# Apply the normalization function to the 'text' column\n",
        "df['text'] = df['text'].apply(normalize_text)\n",
        "df['parent_text'] = df['parent_text'].apply(normalize_text)\n"
      ],
      "metadata": {
        "id": "YSlYix6S-bTm"
      },
      "execution_count": null,
      "outputs": []
    },
    {
      "cell_type": "code",
      "source": [
        "import pandas as pd\n",
        "import nltk\n",
        "from nltk.corpus import stopwords\n",
        "from nltk.stem import WordNetLemmatizer\n",
        "import re\n",
        "from bs4 import BeautifulSoup\n",
        "\n",
        "# Assuming you have already loaded and preprocessed the dataset\n",
        "# Using the code you provided earlier\n",
        "\n",
        "# Tokenization function\n",
        "def tokenize(text):\n",
        "    return text.split()\n",
        "\n",
        "# Apply tokenization to the 'text' and 'parent_text' columns\n",
        "df['text'] = df['text'].apply(tokenize)\n",
        "df['parent_text'] = df['parent_text'].apply(tokenize)\n",
        "\n",
        "# Split ratios\n",
        "split_ratios = [0.3, 0.4, 0.2]\n",
        "\n",
        "# Calculate the sizes of each split\n",
        "num_examples = len(df)\n",
        "num_train_samples = int(num_examples * split_ratios[0])\n",
        "num_val_samples = int(num_examples * split_ratios[1])\n",
        "num_test_samples = num_examples - num_train_samples - num_val_samples\n",
        "\n",
        "# Split the dataset\n",
        "train_dataset = df[:num_train_samples]\n",
        "val_dataset = df[num_train_samples:num_train_samples + num_val_samples]\n",
        "test_dataset = df[num_train_samples + num_val_samples:]\n",
        "\n",
        "# Calculate average train-validation split ratio\n",
        "average_train_val_ratio = (num_train_samples / (num_train_samples + num_val_samples))\n",
        "\n",
        "# Print average train-validation split ratio\n",
        "print(f\"Average Train-Validation Split: {average_train_val_ratio:.2f}\")\n"
      ],
      "metadata": {
        "colab": {
          "base_uri": "https://localhost:8080/"
        },
        "id": "nEqqX3-YAX5Z",
        "outputId": "dd17b3e6-d59f-4e31-f7a4-97aab8a2cd18"
      },
      "execution_count": null,
      "outputs": [
        {
          "output_type": "stream",
          "name": "stdout",
          "text": [
            "Average Train-Validation Split: 0.43\n"
          ]
        }
      ]
    },
    {
      "cell_type": "code",
      "source": [
        "# Building a Vocabulary\n",
        "# Combine 'text' and 'parent_text' columns to build the vocabulary\n",
        "combined_text = df['text'].tolist() + df['parent_text'].tolist()\n",
        "\n",
        "# Create a Tokenizer and fit on the combined text\n",
        "tokenizer = tokenize()\n",
        "tokenizer.fit_on_texts(combined_text)\n",
        "\n",
        "# Vocabulary size\n",
        "vocab_size = len(tokenizer.word_index) + 1\n",
        "\n",
        "# Print vocabulary size\n",
        "print(f\"Vocabulary size: {vocab_size}\")\n"
      ],
      "metadata": {
        "id": "zrIGUS1BCFmG"
      },
      "execution_count": null,
      "outputs": []
    },
    {
      "cell_type": "code",
      "source": [
        "# Convert Text to Sequences of Integers\n",
        "text_sequences = tokenizer.texts_to_sequences(df['text'])\n",
        "parent_text_sequences = tokenizer.texts_to_sequences(df['parent_text'])\n"
      ],
      "metadata": {
        "id": "PaAsAAvLgh6l"
      },
      "execution_count": null,
      "outputs": []
    },
    {
      "cell_type": "code",
      "source": [
        "# Pad Sequences to Make them Uniform in Length\n",
        "max_sequence_length = 100  # Define the maximum sequence length\n",
        "text_sequences_padded = pad_sequences(text_sequences, maxlen=max_sequence_length, padding='post', truncating='post')\n",
        "parent_text_sequences_padded = pad_sequences(parent_text_sequences, maxlen=max_sequence_length, padding='post', truncating='post')\n"
      ],
      "metadata": {
        "id": "lDUaPBqth8D3"
      },
      "execution_count": null,
      "outputs": []
    },
    {
      "cell_type": "code",
      "source": [
        "import tensorflow as tf\n",
        "\n",
        "# Perform One-hot Encoding\n",
        "onehot_text = tf.keras.utils.to_categorical(text_sequences_padded, num_classes=vocab_size)\n",
        "onehot_parent_text = tf.keras.utils.to_categorical(parent_text_sequences_padded, num_classes=vocab_size)\n",
        "\n",
        "# Print information\n",
        "print(f\"Example one-hot encoded text: {onehot_text[0]}\")\n"
      ],
      "metadata": {
        "id": "E6wOL81AhtXG"
      },
      "execution_count": null,
      "outputs": []
    },
    {
      "cell_type": "code",
      "source": [
        "import tensorflow as tf\n",
        "\n",
        "class VanillaRNN(tf.keras.Model):\n",
        "    def __init__(self, vocab_size, embedding_dim, hidden_units):\n",
        "        super(VanillaRNN, self).__init__()\n",
        "        self.embedding = tf.keras.layers.Embedding(vocab_size, embedding_dim)\n",
        "        self.rnn = tf.keras.layers.SimpleRNN(hidden_units, return_sequences=True)\n",
        "        self.dense = tf.keras.layers.Dense(vocab_size, activation='softmax')\n",
        "\n",
        "    def call(self, inputs):\n",
        "        embedded = self.embedding(inputs)\n",
        "        rnn_output = self.rnn(embedded)\n",
        "        logits = self.dense(rnn_output)\n",
        "        return logits\n",
        "\n",
        "# Parameters\n",
        "vocab_size = ...  # Vocabulary size from the previous steps\n",
        "embedding_dim = 128\n",
        "hidden_units = 256\n",
        "\n",
        "# Initialize the model\n",
        "model = VanillaRNN(vocab_size, embedding_dim, hidden_units)\n"
      ],
      "metadata": {
        "id": "qSYggdJVhtNz"
      },
      "execution_count": null,
      "outputs": []
    },
    {
      "cell_type": "code",
      "source": [
        "# Define loss and optimizer\n",
        "loss_fn = tf.keras.losses.SparseCategoricalCrossentropy(from_logits=True)\n",
        "optimizer = tf.keras.optimizers.Adam()\n",
        "\n",
        "# Training loop\n",
        "num_epochs = 10\n",
        "batch_size = 64\n",
        "\n",
        "for epoch in range(num_epochs):\n",
        "    for batch_start in range(0, len(onehot_text), batch_size):\n",
        "        batch_end = batch_start + batch_size\n",
        "        batch_input = onehot_text[batch_start:batch_end]\n",
        "        batch_target = text_sequences_padded[batch_start:batch_end]\n",
        "\n",
        "        with tf.GradientTape() as tape:\n",
        "            logits = model(batch_input)\n",
        "            loss = loss_fn(batch_target, logits)\n",
        "\n",
        "        gradients = tape.gradient(loss, model.trainable_variables)\n",
        "        optimizer.apply_gradients(zip(gradients, model.trainable_variables))\n",
        "\n",
        "        print(f\"Epoch [{epoch+1}/{num_epochs}], Batch [{batch_start//batch_size+1}/{len(onehot_text)//batch_size}], Loss: {loss:.4f}\")\n"
      ],
      "metadata": {
        "id": "md8Sfq9FmoD0"
      },
      "execution_count": null,
      "outputs": []
    },
    {
      "cell_type": "code",
      "source": [
        "# Define a different learning rate\n",
        "optimizer = tf.keras.optimizers.Adam(learning_rate=0.001)\n",
        "hidden_units = 128  # Change the number of hidden units\n",
        "model = VanillaRNN(vocab_size, embedding_dim, hidden_units)\n"
      ],
      "metadata": {
        "id": "L2O7RO1AmvP1"
      },
      "execution_count": null,
      "outputs": []
    },
    {
      "cell_type": "code",
      "source": [
        "# Choose a random starting seed text\n",
        "seed_text = \"I love\"\n",
        "seed_text = normalize_text(seed_text)\n",
        "seed_sequence = tokenizer.texts_to_sequences([seed_text])\n",
        "seed_padded = pad_sequences(seed_sequence, maxlen=max_sequence_length, padding='post', truncating='post')\n",
        "\n",
        "# Generate text based on the seed\n",
        "generated_text = []\n",
        "num_words_to_generate = 50\n",
        "\n",
        "for _ in range(num_words_to_generate):\n",
        "    prediction = model(seed_padded)\n",
        "    predicted_word_index = tf.argmax(prediction, axis=-1).numpy()[0][-1]\n",
        "\n",
        "    # Convert predicted index to word\n",
        "    predicted_word = tokenizer.index_word[predicted_word_index]\n",
        "    generated_text.append(predicted_word)\n",
        "\n",
        "    # Update seed with new word\n",
        "    seed_padded = pad_sequences([[predicted_word_index]], maxlen=max_sequence_length, padding='post', truncating='post')\n",
        "\n",
        "# Join generated words into a sentence\n",
        "generated_sentence = ' '.join(generated_text)\n",
        "\n",
        "# Print generated text\n",
        "print(\"Generated Text:\")\n",
        "print(generated_sentence)\n"
      ],
      "metadata": {
        "id": "UTmvmzsVnhIT"
      },
      "execution_count": null,
      "outputs": []
    },
    {
      "cell_type": "markdown",
      "source": [
        "\n",
        "\n",
        "```\n",
        "accuracies = [81, 82, 81, 86, 85]\n",
        "```\n",
        "\n"
      ],
      "metadata": {
        "id": "aTY4qkiKfQ5s"
      }
    },
    {
      "cell_type": "code",
      "source": [
        "import matplotlib.pyplot as plt\n",
        "\n",
        "# Accuracy data\n",
        "models = ['Attention-LSTM', 'RNN-LSTM', 'Bi-LSTM', 'English BERT', 'Bangla BERT']\n",
        "\n",
        "# Plotting the bar chart\n",
        "plt.figure(figsize=(10, 6))\n",
        "bars = plt.bar(models, accuracies, color=['blue', 'orange', 'green', 'purple', 'red'])\n",
        "\n",
        "# Adding accuracy values on top of the bars\n",
        "for bar in bars:\n",
        "    yval = bar.get_height()\n",
        "    plt.text(bar.get_x() + bar.get_width()/2, yval + 0.5, f'{yval}%', ha='center', va='bottom')\n",
        "\n",
        "# Adding labels and title\n",
        "plt.xlabel('Models')\n",
        "plt.ylabel('Accuracy (%)')\n",
        "plt.title('Accuracy Comparison of Different Models')\n",
        "\n",
        "# Display the legend\n",
        "plt.legend(['Accuracy'])\n",
        "\n",
        "# Show the plot\n",
        "plt.show()\n"
      ],
      "metadata": {
        "colab": {
          "base_uri": "https://localhost:8080/",
          "height": 564
        },
        "id": "E1URoI5rCgmB",
        "outputId": "17ccdecd-de6c-49b0-af81-855027246300"
      },
      "execution_count": null,
      "outputs": [
        {
          "output_type": "display_data",
          "data": {
            "text/plain": [
              "<Figure size 1000x600 with 1 Axes>"
            ],
            "image/png": "[encoded data removed]"
          },
          "metadata": {}
        }
      ]
    },
    {
      "cell_type": "markdown",
      "source": [
        "\n",
        "\n",
        "```\n",
        "# accuracy = [85, 86, 81, 81, 82]\n",
        "# precision = [84, 86, 79, 79, 81]\n",
        "# recall = [84, 84, 79, 78, 75]\n",
        "# f1_score = [84, 84, 79, 78, 77]\n",
        "```\n",
        "\n"
      ],
      "metadata": {
        "id": "omGW22tFfE1y"
      }
    },
    {
      "cell_type": "code",
      "source": [
        "import matplotlib.pyplot as plt\n",
        "import numpy as np\n",
        "\n",
        "# Model performance data\n",
        "model_names = ['Bangla BERT', 'English BERT', 'Bi-LSTM', 'Attention LSTM', 'RNN LSTM']\n",
        "\n",
        "\n",
        "# Bar width\n",
        "bar_width = 0.2\n",
        "bar_positions = np.arange(len(model_names))\n",
        "\n",
        "# Plotting the bar chart\n",
        "fig, ax = plt.subplots(figsize=(8, 6))\n",
        "\n",
        "bar_accuracy = ax.bar(bar_positions - bar_width, accuracy, bar_width, label='Accuracy')\n",
        "bar_precision = ax.bar(bar_positions, precision, bar_width, label='Precision')\n",
        "bar_recall = ax.bar(bar_positions + bar_width, recall, bar_width, label='Recall')\n",
        "bar_f1_score = ax.bar(bar_positions + 2*bar_width, f1_score, bar_width, label='F1 Score')\n",
        "\n",
        "# Adding labels and title\n",
        "ax.set_xlabel('Models')\n",
        "ax.set_ylabel('Metrics (%)')\n",
        "ax.set_title('Model Performance Metrics')\n",
        "ax.set_xticks(bar_positions + bar_width)\n",
        "ax.set_xticklabels(model_names)\n",
        "\n",
        "# Move the legend to a blank space outside the bars\n",
        "ax.legend(loc='upper center', bbox_to_anchor=(0.5, -0.15), fancybox=True, shadow=True, ncol=4)\n",
        "\n",
        "# Show the plot\n",
        "plt.show()\n"
      ],
      "metadata": {
        "colab": {
          "base_uri": "https://localhost:8080/",
          "height": 622
        },
        "id": "-Y4GvO93GUgC",
        "outputId": "905ed0b7-1253-478f-d3d7-06475fcd633c"
      },
      "execution_count": null,
      "outputs": [
        {
          "output_type": "display_data",
          "data": {
            "text/plain": [
              "<Figure size 800x600 with 1 Axes>"
            ],
            "image/png": "[encoded data removed]"
          },
          "metadata": {}
        }
      ]
    }
  ]
}